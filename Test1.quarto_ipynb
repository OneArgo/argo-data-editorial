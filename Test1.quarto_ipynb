{
  "cells": [
    {
      "cell_type": "markdown",
      "metadata": {},
      "source": [
        "---\n",
        "title: ADMT - Argo data management team\n",
        "---\n",
        "\n",
        "We provide access to Argo data, we document data processing, formats and quality control procedures.\n",
        "\n",
        "- More information on Argo ? [visit Argo program](https://argo.ucsd.edu/){target=\"_blank\"}<br>\n",
        "- A question ? [contact argo.net](mailto:support@argo.net)<br>\n",
        "\n",
        "\n",
        "# How to acknowledge Argo data ?\n",
        "Since Argo data are freely available, we kindly request that the following acknowledgement be included in any publication or product that utilizes Argo data:  \n",
        "*\"These data were collected and made freely available by the International Argo Program and the national programs that contribute to it. ([https://argo.ucsd.edu](https://argo.ucsd.edu), [https://www.ocean-ops.org](https://www.ocean-ops.org)). The Argo Program is part of the Global Ocean Observing System.\"*\n",
        "\n",
        "# News\n",
        "\n",
        "\n",
        "```{listing}\n",
        "directory: news\n",
        "sort: \"date desc\"\n",
        "type: table\n",
        "image-align: left\n",
        "image-height: 150px\n",
        "fields: [date, image, title, description, categories]\n",
        "max-description-length: 150\n",
        "sort-ui: true\n",
        "filter-ui: true\n",
        "```"
      ],
      "id": "5e59c405"
    }
  ],
  "metadata": {
    "kernelspec": {
      "display_name": "Python 3",
      "language": "python",
      "name": "python3"
    }
  },
  "nbformat": 4,
  "nbformat_minor": 5
}