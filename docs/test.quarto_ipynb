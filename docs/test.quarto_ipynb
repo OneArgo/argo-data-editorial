{
  "cells": [
    {
      "cell_type": "markdown",
      "metadata": {},
      "source": [
        "---\n",
        "title: \"Test\"\n",
        "---\n",
        "\n",
        "\n",
        "## Test js\n",
        "Ceci est un test\n",
        "\n",
        "\n",
        "<html>\n",
        "\t<head>\n",
        "\t\t<meta charset=\"utf-8\" />\n",
        "\t\t<link rel=\"stylesheet\" type=\"text/css\" href=\"/assets/css/styles.css\" />\n",
        "\t\t<script src=\"https://ajax.googleapis.com/ajax/libs/jquery/1.8.2/jquery.min.js\"></script>\n",
        "\t\t<script src=\"https://code.highcharts.com/highcharts.js\"></script>\n",
        "\t\t<script src=\"https://code.highcharts.com/modules/exporting.js\"></script>\n",
        "\t\t<script src=\"/assets/js/statisticGdac.js\"></script>\n",
        "\t\t<title>Active floats statistics</title>\n",
        "\t</head>\n",
        "\t<body>\n",
        "\t\t<div id=\"active_pie_graph\" style=\"width:100%; height:400px;\"></div>\n",
        "\t\t<div id=\"Histogram\" style=\"width:100%; height:400px;\"></div>\n",
        "\t\t<p class=\"warning\" >Warning : the green line displays the total of floats that are active during a year. This total is different than the floats active at a particular day</p>\n",
        "\t\t<div id=\"Histogram_percent\" style=\"width:100%; height:400px;\"></div>\n",
        "\t</body>\n",
        "</html>\n",
        "\n",
        "\n",
        "## Test js2\n",
        "Ceci est un test2\n",
        "\n",
        "```{html}\n",
        "appearance"
      ],
      "id": "5156e81c"
    }
  ],
  "metadata": {
    "kernelspec": {
      "display_name": "Python 3",
      "language": "python",
      "name": "python3"
    }
  },
  "nbformat": 4,
  "nbformat_minor": 5
}